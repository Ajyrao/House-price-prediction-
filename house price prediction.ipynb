{
 "cells": [
  {
   "cell_type": "code",
   "execution_count": 1,
   "metadata": {},
   "outputs": [
    {
     "name": "stdout",
     "output_type": "stream",
     "text": [
      "Test Score: 91.45 %\n",
      "Train Score: 91.91 %\n"
     ]
    }
   ],
   "source": [
    "import pandas as pd\n",
    "from sklearn.model_selection import train_test_split\n",
    "from sklearn.linear_model import LinearRegression\n",
    "\n",
    "\n",
    "df = pd.read_csv('housing.csv')\n",
    "target = 'Price'\n",
    "feat =['Avg. Area Income', 'Avg. Area House Age', 'Avg. Area Number of Rooms',\n",
    "        'Area Population']\n",
    "features =df[feat]\n",
    "label = df[target]\n",
    "k = train_test_split(features,label,test_size=0.25,random_state=40)\n",
    "train_feat, test_feat, train_label, test_label = k\n",
    "model = LinearRegression().fit(train_feat,train_label)\n",
    "print('Test Score:', round(model.score(test_feat,test_label)*100,2),'%')\n",
    "print('Train Score:', round(model.score(train_feat,train_label)*100,2),'%')\n",
    "\n",
    "#Save the file\n",
    "pd.to_pickle(model,'housepricepredictor.pkl')"
   ]
  },
  {
   "cell_type": "code",
   "execution_count": 2,
   "metadata": {},
   "outputs": [
    {
     "name": "stdout",
     "output_type": "stream",
     "text": [
      "788861.74\n"
     ]
    }
   ],
   "source": [
    "house = pd.read_pickle('housepricepredictor.pkl')\n",
    "house\n",
    "inc = eval(input('Enter the Income'))\n",
    "age = eval(input('Enter the houseage'))\n",
    "room = eval(input('Enter the Room'))\n",
    "pop =eval(input('Enter the population of area'))\n",
    "query = [[inc,age,room,pop]]\n",
    "query =pd.DataFrame(query, columns=model.feature_names_in_) \n",
    "pred = house.predict(query)\n",
    "print(round(pred[0],2))"
   ]
  }
 ],
 "metadata": {
  "kernelspec": {
   "display_name": "Python 3",
   "language": "python",
   "name": "python3"
  },
  "language_info": {
   "codemirror_mode": {
    "name": "ipython",
    "version": 3
   },
   "file_extension": ".py",
   "mimetype": "text/x-python",
   "name": "python",
   "nbconvert_exporter": "python",
   "pygments_lexer": "ipython3",
   "version": "3.10.1"
  }
 },
 "nbformat": 4,
 "nbformat_minor": 2
}
